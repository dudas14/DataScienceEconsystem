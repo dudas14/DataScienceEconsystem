{
 "cells": [
  {
   "cell_type": "markdown",
   "id": "c2f21487-cc05-402f-9cc3-e9c24e4cec0e",
   "metadata": {},
   "source": [
    "# Data Science Tools and Ecosystem\n"
   ]
  },
  {
   "cell_type": "markdown",
   "id": "47e70359-38d4-4be3-8be7-d9d6215a6aaa",
   "metadata": {},
   "source": [
    "In this notebook, Data Science Tools and Ecosystem are summarized."
   ]
  },
  {
   "cell_type": "markdown",
   "id": "8698d507-516e-4d86-98b2-8e0267fb3b5e",
   "metadata": {},
   "source": [
    "**Objectives**\n",
    "- List popular laguages for Data Science;\n",
    "- List commonly used libraries for Data Science;\n",
    "- List polpular Data Science tools;\n",
    "- Evaluate arythmetic expressions in Python;"
   ]
  },
  {
   "cell_type": "markdown",
   "id": "82c396c1-5572-41f9-a3f4-d3a85f25fc80",
   "metadata": {
    "jp-MarkdownHeadingCollapsed": true
   },
   "source": [
    "Some of the popular languages that Data Scientists use are:\n",
    "1. Python\n",
    "2. R\n",
    "3. Julia\n",
    "4. Scala\n",
    "5. MatLab\n",
    "6. SQL"
   ]
  },
  {
   "cell_type": "markdown",
   "id": "27ddc9e1-eaf5-40b2-be8f-7b8feeb076d5",
   "metadata": {},
   "source": [
    "Some of the commonly used libraries used by Data Scientists include:\n",
    "1. Pandas\n",
    "2. NumPy\n",
    "3. Keras\n",
    "4. SciKit-learn\n",
    "5. Tensor Flow\n",
    "6. Matplotlib\n",
    "7. Seaborn\n",
    "8. Plotly"
   ]
  },
  {
   "cell_type": "markdown",
   "id": "51414cfa-d7a3-4d3d-a1fe-56f124a4d2aa",
   "metadata": {},
   "source": [
    "|Data Science Tools|\n",
    "|-|\n",
    "|Anaconda|\n",
    "|Jupyter Notebook|\n",
    "|VS Code|"
   ]
  },
  {
   "cell_type": "markdown",
   "id": "6d6e6439-e543-4f6e-acd9-963e9eacf152",
   "metadata": {},
   "source": [
    "Below are a few examples of evaluating arithmetic expressions in Python"
   ]
  },
  {
   "cell_type": "code",
   "execution_count": 19,
   "id": "a9758be7-bd24-46c8-b5a1-47fd56d465c2",
   "metadata": {},
   "outputs": [],
   "source": [
    "#This a simple arithmetic expression to mutiply then add integers"
   ]
  },
  {
   "cell_type": "code",
   "execution_count": 21,
   "id": "949f0002-d4af-413e-94b6-4ecd69c045c5",
   "metadata": {},
   "outputs": [
    {
     "data": {
      "text/plain": [
       "17"
      ]
     },
     "execution_count": 21,
     "metadata": {},
     "output_type": "execute_result"
    }
   ],
   "source": [
    "(3*4)+5"
   ]
  },
  {
   "cell_type": "code",
   "execution_count": 25,
   "id": "7fa1ac95-0ede-4239-bdab-00f2534fbd38",
   "metadata": {},
   "outputs": [
    {
     "data": {
      "text/plain": [
       "3.3333333333333335"
      ]
     },
     "execution_count": 25,
     "metadata": {},
     "output_type": "execute_result"
    }
   ],
   "source": [
    "#This will convert 200 minutes to hours by diving by 60.\n",
    "\n",
    "200/60"
   ]
  },
  {
   "cell_type": "markdown",
   "id": "377fafe6-64b4-4762-9943-709c3305e545",
   "metadata": {},
   "source": [
    "## Author\n",
    "Diana Andreea Dudas"
   ]
  },
  {
   "cell_type": "code",
   "execution_count": null,
   "id": "bf8ad38f-3960-4573-9298-e87ce8fae993",
   "metadata": {},
   "outputs": [],
   "source": []
  }
 ],
 "metadata": {
  "kernelspec": {
   "display_name": "Python 3 (ipykernel)",
   "language": "python",
   "name": "python3"
  },
  "language_info": {
   "codemirror_mode": {
    "name": "ipython",
    "version": 3
   },
   "file_extension": ".py",
   "mimetype": "text/x-python",
   "name": "python",
   "nbconvert_exporter": "python",
   "pygments_lexer": "ipython3",
   "version": "3.12.4"
  }
 },
 "nbformat": 4,
 "nbformat_minor": 5
}
